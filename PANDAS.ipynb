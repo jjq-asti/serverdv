{
 "cells": [
  {
   "cell_type": "code",
   "execution_count": 2,
   "metadata": {},
   "outputs": [],
   "source": [
    "from csvtohdf import parse_data, get_data, get_location\n",
    "from pathlib import Path\n",
    "import os\n",
    "import pandas as pd\n",
    "import datetime\n",
    "import numpy as np\n",
    "import matplotlib.pyplot as plt\n",
    "import logging"
   ]
  },
  {
   "cell_type": "code",
   "execution_count": 3,
   "metadata": {},
   "outputs": [],
   "source": [
    "logging.basicConfig(filename='runtime.log', format='%(asctime)s %(levelname)s %(threadName)-10s %(message)s', level=logging.INFO)"
   ]
  },
  {
   "cell_type": "code",
   "execution_count": 4,
   "metadata": {},
   "outputs": [],
   "source": [
    "CWD = Path.cwd()\n",
    "HOME_DIR = CWD.home()\n",
    "# DATA_FOLDER = HOME_DIR.joinpath(\"ED_Data\")\n",
    "DATA_FOLDER = CWD.joinpath(\"brocoli_data/ED_Data\")\n",
    "DEST_PATH = HOME_DIR.joinpath(\"server\",\"data.hdf5\")"
   ]
  },
  {
   "cell_type": "code",
   "execution_count": 5,
   "metadata": {},
   "outputs": [],
   "source": [
    "dfs = []\n",
    "measurements = {}"
   ]
  },
  {
   "cell_type": "code",
   "execution_count": 6,
   "metadata": {},
   "outputs": [],
   "source": [
    "for root, dirs, files in os.walk(str(DATA_FOLDER)):\n",
    "    for filename in files:\n",
    "        if filename.endswith('.csv'):\n",
    "            ret = parse_data(DATA_FOLDER.joinpath(filename), str(DEST_PATH), filename)\n",
    "            data = get_data(**ret)\n",
    "            try:\n",
    "                key = data.pop()\n",
    "                key = key.strftime(\"%Y-%m-%d\")\n",
    "                key = str(key)\n",
    "                measurements[key] = measurements.get(key, []) + [data]\n",
    "            except:\n",
    "                pass\n"
   ]
  },
  {
   "cell_type": "code",
   "execution_count": 7,
   "metadata": {},
   "outputs": [],
   "source": [
    "dfs = []\n",
    "for val in measurements.values():\n",
    "    df = pd.DataFrame(data= val, columns=['SITE', 'TIMESTAMP', 'RSSI', 'START', 'STEP',\n",
    "        'geom'])\n",
    "    if df.empty:\n",
    "        continue\n",
    "    df[\"address\"] = df['geom'].apply(get_location)\n",
    "    dfs.append(df)"
   ]
  },
  {
   "cell_type": "code",
   "execution_count": 8,
   "metadata": {},
   "outputs": [],
   "source": [
    "data = pd.concat(dfs,ignore_index=True, sort=False)"
   ]
  },
  {
   "cell_type": "code",
   "execution_count": 9,
   "metadata": {},
   "outputs": [
    {
     "data": {
      "text/html": [
       "<div>\n",
       "<style scoped>\n",
       "    .dataframe tbody tr th:only-of-type {\n",
       "        vertical-align: middle;\n",
       "    }\n",
       "\n",
       "    .dataframe tbody tr th {\n",
       "        vertical-align: top;\n",
       "    }\n",
       "\n",
       "    .dataframe thead th {\n",
       "        text-align: right;\n",
       "    }\n",
       "</style>\n",
       "<table border=\"1\" class=\"dataframe\">\n",
       "  <thead>\n",
       "    <tr style=\"text-align: right;\">\n",
       "      <th></th>\n",
       "      <th>SITE</th>\n",
       "      <th>TIMESTAMP</th>\n",
       "      <th>RSSI</th>\n",
       "      <th>START</th>\n",
       "      <th>STEP</th>\n",
       "      <th>geom</th>\n",
       "      <th>address</th>\n",
       "    </tr>\n",
       "  </thead>\n",
       "  <tbody>\n",
       "    <tr>\n",
       "      <th>0</th>\n",
       "      <td>ASTI</td>\n",
       "      <td>2020-12-11 17:50:05</td>\n",
       "      <td>[-94.4, -95.2, -93.8, -94.2, -88.0, -88.0, -90...</td>\n",
       "      <td>400.0</td>\n",
       "      <td>0.2</td>\n",
       "      <td>(14.647179, 121.072005)</td>\n",
       "      <td>Advanced Science and Technology Institute, Car...</td>\n",
       "    </tr>\n",
       "    <tr>\n",
       "      <th>1</th>\n",
       "      <td>NRTDC</td>\n",
       "      <td>2020-12-11 20:10:06</td>\n",
       "      <td>[-82.0, -81.9, -82.8, -85.0, -96.1, -93.8, -92...</td>\n",
       "      <td>400.0</td>\n",
       "      <td>0.2</td>\n",
       "      <td>(14.505025, 124.851131)</td>\n",
       "      <td>0</td>\n",
       "    </tr>\n",
       "    <tr>\n",
       "      <th>2</th>\n",
       "      <td>NRTDC</td>\n",
       "      <td>2020-12-11 03:40:06</td>\n",
       "      <td>[-104.3, -95.6, -94.4, -96.5, -105.2, -108.6, ...</td>\n",
       "      <td>400.0</td>\n",
       "      <td>0.2</td>\n",
       "      <td>(14.505025, 124.851131)</td>\n",
       "      <td>0</td>\n",
       "    </tr>\n",
       "    <tr>\n",
       "      <th>3</th>\n",
       "      <td>ASTI</td>\n",
       "      <td>2020-12-11 13:50:05</td>\n",
       "      <td>[-85.9, -87.4, -93.6, -98.2, -97.6, -104.5, -1...</td>\n",
       "      <td>400.0</td>\n",
       "      <td>0.2</td>\n",
       "      <td>(14.647179, 121.072005)</td>\n",
       "      <td>Advanced Science and Technology Institute, Car...</td>\n",
       "    </tr>\n",
       "    <tr>\n",
       "      <th>4</th>\n",
       "      <td>NRTDC</td>\n",
       "      <td>2020-12-11 21:50:06</td>\n",
       "      <td>[-86.1, -87.8, -90.5, -89.1, -95.1, -95.4, -91...</td>\n",
       "      <td>400.0</td>\n",
       "      <td>0.2</td>\n",
       "      <td>(14.505025, 124.851131)</td>\n",
       "      <td>0</td>\n",
       "    </tr>\n",
       "    <tr>\n",
       "      <th>5</th>\n",
       "      <td>NRTDC</td>\n",
       "      <td>2020-12-11 18:50:06</td>\n",
       "      <td>[-87.6, -91.0, -82.4, -80.9, -91.5, -95.0, -87...</td>\n",
       "      <td>400.0</td>\n",
       "      <td>0.2</td>\n",
       "      <td>(14.505025, 124.851131)</td>\n",
       "      <td>0</td>\n",
       "    </tr>\n",
       "    <tr>\n",
       "      <th>6</th>\n",
       "      <td>ASTI</td>\n",
       "      <td>2020-12-11 21:20:05</td>\n",
       "      <td>[-94.4, -95.7, -98.9, -100.6, -96.2, -106.8, -...</td>\n",
       "      <td>400.0</td>\n",
       "      <td>0.2</td>\n",
       "      <td>(14.647179, 121.072005)</td>\n",
       "      <td>Advanced Science and Technology Institute, Car...</td>\n",
       "    </tr>\n",
       "    <tr>\n",
       "      <th>7</th>\n",
       "      <td>ASTI</td>\n",
       "      <td>2020-12-11 10:10:05</td>\n",
       "      <td>[-91.2, -93.2, -101.3, -100.6, -90.2, -84.9, -...</td>\n",
       "      <td>400.0</td>\n",
       "      <td>0.2</td>\n",
       "      <td>(14.647179, 121.072005)</td>\n",
       "      <td>Advanced Science and Technology Institute, Car...</td>\n",
       "    </tr>\n",
       "    <tr>\n",
       "      <th>8</th>\n",
       "      <td>ASTI</td>\n",
       "      <td>2020-12-11 06:30:05</td>\n",
       "      <td>[-101.8, -95.7, -96.1, -97.2, -94.3, -96.5, -1...</td>\n",
       "      <td>400.0</td>\n",
       "      <td>0.2</td>\n",
       "      <td>(14.647179, 121.072005)</td>\n",
       "      <td>Advanced Science and Technology Institute, Car...</td>\n",
       "    </tr>\n",
       "    <tr>\n",
       "      <th>9</th>\n",
       "      <td>NRTDC</td>\n",
       "      <td>2020-12-11 15:40:07</td>\n",
       "      <td>[-84.4, -86.0, -90.3, -93.6, -95.6, -97.4, -87...</td>\n",
       "      <td>400.0</td>\n",
       "      <td>0.2</td>\n",
       "      <td>(14.505025, 124.851131)</td>\n",
       "      <td>0</td>\n",
       "    </tr>\n",
       "  </tbody>\n",
       "</table>\n",
       "</div>"
      ],
      "text/plain": [
       "    SITE           TIMESTAMP  \\\n",
       "0   ASTI 2020-12-11 17:50:05   \n",
       "1  NRTDC 2020-12-11 20:10:06   \n",
       "2  NRTDC 2020-12-11 03:40:06   \n",
       "3   ASTI 2020-12-11 13:50:05   \n",
       "4  NRTDC 2020-12-11 21:50:06   \n",
       "5  NRTDC 2020-12-11 18:50:06   \n",
       "6   ASTI 2020-12-11 21:20:05   \n",
       "7   ASTI 2020-12-11 10:10:05   \n",
       "8   ASTI 2020-12-11 06:30:05   \n",
       "9  NRTDC 2020-12-11 15:40:07   \n",
       "\n",
       "                                                RSSI  START  STEP  \\\n",
       "0  [-94.4, -95.2, -93.8, -94.2, -88.0, -88.0, -90...  400.0   0.2   \n",
       "1  [-82.0, -81.9, -82.8, -85.0, -96.1, -93.8, -92...  400.0   0.2   \n",
       "2  [-104.3, -95.6, -94.4, -96.5, -105.2, -108.6, ...  400.0   0.2   \n",
       "3  [-85.9, -87.4, -93.6, -98.2, -97.6, -104.5, -1...  400.0   0.2   \n",
       "4  [-86.1, -87.8, -90.5, -89.1, -95.1, -95.4, -91...  400.0   0.2   \n",
       "5  [-87.6, -91.0, -82.4, -80.9, -91.5, -95.0, -87...  400.0   0.2   \n",
       "6  [-94.4, -95.7, -98.9, -100.6, -96.2, -106.8, -...  400.0   0.2   \n",
       "7  [-91.2, -93.2, -101.3, -100.6, -90.2, -84.9, -...  400.0   0.2   \n",
       "8  [-101.8, -95.7, -96.1, -97.2, -94.3, -96.5, -1...  400.0   0.2   \n",
       "9  [-84.4, -86.0, -90.3, -93.6, -95.6, -97.4, -87...  400.0   0.2   \n",
       "\n",
       "                      geom                                            address  \n",
       "0  (14.647179, 121.072005)  Advanced Science and Technology Institute, Car...  \n",
       "1  (14.505025, 124.851131)                                                  0  \n",
       "2  (14.505025, 124.851131)                                                  0  \n",
       "3  (14.647179, 121.072005)  Advanced Science and Technology Institute, Car...  \n",
       "4  (14.505025, 124.851131)                                                  0  \n",
       "5  (14.505025, 124.851131)                                                  0  \n",
       "6  (14.647179, 121.072005)  Advanced Science and Technology Institute, Car...  \n",
       "7  (14.647179, 121.072005)  Advanced Science and Technology Institute, Car...  \n",
       "8  (14.647179, 121.072005)  Advanced Science and Technology Institute, Car...  \n",
       "9  (14.505025, 124.851131)                                                  0  "
      ]
     },
     "execution_count": 9,
     "metadata": {},
     "output_type": "execute_result"
    }
   ],
   "source": [
    "data.head(10)"
   ]
  },
  {
   "cell_type": "code",
   "execution_count": 10,
   "metadata": {},
   "outputs": [
    {
     "data": {
      "text/plain": [
       "'Advanced Science and Technology Institute, Carlos P. Garcia Avenue, Village B, UP Campus, Diliman, 4th District, Quezon City, Metro Manila, 1101, Philippines'"
      ]
     },
     "execution_count": 10,
     "metadata": {},
     "output_type": "execute_result"
    }
   ],
   "source": [
    "loc = data['geom'].unique()[0]\n",
    "data['address'].unique()[0]"
   ]
  },
  {
   "cell_type": "code",
   "execution_count": 11,
   "metadata": {},
   "outputs": [
    {
     "data": {
      "text/html": [
       "<div>\n",
       "<style scoped>\n",
       "    .dataframe tbody tr th:only-of-type {\n",
       "        vertical-align: middle;\n",
       "    }\n",
       "\n",
       "    .dataframe tbody tr th {\n",
       "        vertical-align: top;\n",
       "    }\n",
       "\n",
       "    .dataframe thead th {\n",
       "        text-align: right;\n",
       "    }\n",
       "</style>\n",
       "<table border=\"1\" class=\"dataframe\">\n",
       "  <thead>\n",
       "    <tr style=\"text-align: right;\">\n",
       "      <th></th>\n",
       "      <th>SITE</th>\n",
       "      <th>TIMESTAMP</th>\n",
       "      <th>RSSI</th>\n",
       "      <th>START</th>\n",
       "      <th>STEP</th>\n",
       "      <th>geom</th>\n",
       "      <th>address</th>\n",
       "    </tr>\n",
       "  </thead>\n",
       "  <tbody>\n",
       "    <tr>\n",
       "      <th>1958</th>\n",
       "      <td>NRTDC</td>\n",
       "      <td>2020-09-28 20:40:05</td>\n",
       "      <td>[-92.5, -92.1, -95.3, -100.7, -108.3, -107.2, ...</td>\n",
       "      <td>400.0</td>\n",
       "      <td>0.2</td>\n",
       "      <td>(14.505025, 124.851131)</td>\n",
       "      <td>0</td>\n",
       "    </tr>\n",
       "    <tr>\n",
       "      <th>1957</th>\n",
       "      <td>NRTDC</td>\n",
       "      <td>2020-09-28 22:00:05</td>\n",
       "      <td>[-94.8, -92.9, -91.5, -90.8, -99.3, -94.8, -94...</td>\n",
       "      <td>400.0</td>\n",
       "      <td>0.2</td>\n",
       "      <td>(14.505025, 124.851131)</td>\n",
       "      <td>0</td>\n",
       "    </tr>\n",
       "    <tr>\n",
       "      <th>678</th>\n",
       "      <td>NRTDC</td>\n",
       "      <td>2020-09-29 03:50:05</td>\n",
       "      <td>[-96.2, -102.1, -107.5, -101.6, -99.8, -98.7, ...</td>\n",
       "      <td>400.0</td>\n",
       "      <td>0.2</td>\n",
       "      <td>(14.505025, 124.851131)</td>\n",
       "      <td>0</td>\n",
       "    </tr>\n",
       "    <tr>\n",
       "      <th>667</th>\n",
       "      <td>NRTDC</td>\n",
       "      <td>2020-09-29 04:10:05</td>\n",
       "      <td>[-30.0, -30.0, -30.0, -30.0, -30.0, -30.0, -30...</td>\n",
       "      <td>400.0</td>\n",
       "      <td>0.2</td>\n",
       "      <td>(14.505025, 124.851131)</td>\n",
       "      <td>0</td>\n",
       "    </tr>\n",
       "    <tr>\n",
       "      <th>675</th>\n",
       "      <td>NRTDC</td>\n",
       "      <td>2020-09-29 06:00:05</td>\n",
       "      <td>[-93.4, -94.8, -98.6, -103.0, -98.6, -93.0, -9...</td>\n",
       "      <td>400.0</td>\n",
       "      <td>0.2</td>\n",
       "      <td>(14.505025, 124.851131)</td>\n",
       "      <td>0</td>\n",
       "    </tr>\n",
       "  </tbody>\n",
       "</table>\n",
       "</div>"
      ],
      "text/plain": [
       "       SITE           TIMESTAMP  \\\n",
       "1958  NRTDC 2020-09-28 20:40:05   \n",
       "1957  NRTDC 2020-09-28 22:00:05   \n",
       "678   NRTDC 2020-09-29 03:50:05   \n",
       "667   NRTDC 2020-09-29 04:10:05   \n",
       "675   NRTDC 2020-09-29 06:00:05   \n",
       "\n",
       "                                                   RSSI  START  STEP  \\\n",
       "1958  [-92.5, -92.1, -95.3, -100.7, -108.3, -107.2, ...  400.0   0.2   \n",
       "1957  [-94.8, -92.9, -91.5, -90.8, -99.3, -94.8, -94...  400.0   0.2   \n",
       "678   [-96.2, -102.1, -107.5, -101.6, -99.8, -98.7, ...  400.0   0.2   \n",
       "667   [-30.0, -30.0, -30.0, -30.0, -30.0, -30.0, -30...  400.0   0.2   \n",
       "675   [-93.4, -94.8, -98.6, -103.0, -98.6, -93.0, -9...  400.0   0.2   \n",
       "\n",
       "                         geom address  \n",
       "1958  (14.505025, 124.851131)       0  \n",
       "1957  (14.505025, 124.851131)       0  \n",
       "678   (14.505025, 124.851131)       0  \n",
       "667   (14.505025, 124.851131)       0  \n",
       "675   (14.505025, 124.851131)       0  "
      ]
     },
     "execution_count": 11,
     "metadata": {},
     "output_type": "execute_result"
    }
   ],
   "source": [
    "data.sort_values(by = 'TIMESTAMP').head()"
   ]
  },
  {
   "cell_type": "code",
   "execution_count": 12,
   "metadata": {},
   "outputs": [
    {
     "data": {
      "text/plain": [
       "numpy.datetime64('2020-09-28T00:00:00.000000000')"
      ]
     },
     "execution_count": 12,
     "metadata": {},
     "output_type": "execute_result"
    }
   ],
   "source": [
    "dates = data['TIMESTAMP'].apply(lambda st: datetime.datetime(year = st.year, month = st.month, day = st.day)).unique()\n",
    "min(dates)"
   ]
  },
  {
   "cell_type": "code",
   "execution_count": 13,
   "metadata": {},
   "outputs": [],
   "source": [
    "filter_loc = data[data['geom'] == loc]"
   ]
  },
  {
   "cell_type": "code",
   "execution_count": 14,
   "metadata": {},
   "outputs": [],
   "source": [
    "filter_date = filter_loc['TIMESTAMP'].apply(lambda st: st.year == 2020 and st.month == 12 and st.day == 11)"
   ]
  },
  {
   "cell_type": "code",
   "execution_count": 15,
   "metadata": {},
   "outputs": [],
   "source": [
    "new_df = filter_loc[filter_date]\n",
    "vals = pd.DataFrame.from_dict(dict(zip(new_df.RSSI.index, new_df.RSSI.values)))"
   ]
  },
  {
   "cell_type": "code",
   "execution_count": 16,
   "metadata": {},
   "outputs": [],
   "source": [
    "new_index = np.arange(new_df.START[0], new_df.START[0] + (new_df.STEP[0] * new_df.RSSI[0].size) ,new_df.STEP[0])"
   ]
  },
  {
   "cell_type": "code",
   "execution_count": 52,
   "metadata": {},
   "outputs": [
    {
     "data": {
      "text/plain": [
       "'2020-12-11 17:50:05'"
      ]
     },
     "execution_count": 52,
     "metadata": {},
     "output_type": "execute_result"
    }
   ],
   "source": [
    "vals.index = new_index\n",
    "vals.columns = new_df.TIMESTAMP\n",
    "#vals = vals.applymap(lambda x: -90 if x < -90 else x)\n",
    "#d_csv = vals.to_csv()\n",
    "str(vals.columns[0])"
   ]
  },
  {
   "cell_type": "code",
   "execution_count": 55,
   "metadata": {},
   "outputs": [
    {
     "data": {
      "text/plain": [
       "Text(0, 0.5, 'Power (dBm)')"
      ]
     },
     "execution_count": 55,
     "metadata": {},
     "output_type": "execute_result"
    },
    {
     "data": {
      "image/png": "[encoded data removed]",
      "text/plain": [
       "<Figure size 1200x480 with 1 Axes>"
      ]
     },
     "metadata": {},
     "output_type": "display_data"
    }
   ],
   "source": [
    "plt.figure(num=None, figsize=(15, 6), dpi=80, facecolor='w', edgecolor='k')\n",
    "plt.plot(vals[vals.columns[0]])\n",
    "plt.legend([str(vals.columns[0])])\n",
    "plt.xlabel('Frequency (MHz)')\n",
    "plt.ylabel('Power (dBm)')"
   ]
  },
  {
   "cell_type": "code",
   "execution_count": null,
   "metadata": {},
   "outputs": [],
   "source": []
  },
  {
   "cell_type": "code",
   "execution_count": null,
   "metadata": {},
   "outputs": [],
   "source": []
  },
  {
   "cell_type": "code",
   "execution_count": null,
   "metadata": {},
   "outputs": [],
   "source": []
  },
  {
   "cell_type": "code",
   "execution_count": null,
   "metadata": {},
   "outputs": [],
   "source": []
  },
  {
   "cell_type": "code",
   "execution_count": null,
   "metadata": {},
   "outputs": [],
   "source": []
  },
  {
   "cell_type": "code",
   "execution_count": null,
   "metadata": {},
   "outputs": [],
   "source": []
  },
  {
   "cell_type": "code",
   "execution_count": null,
   "metadata": {},
   "outputs": [],
   "source": []
  },
  {
   "cell_type": "code",
   "execution_count": null,
   "metadata": {},
   "outputs": [],
   "source": []
  },
  {
   "cell_type": "code",
   "execution_count": null,
   "metadata": {},
   "outputs": [],
   "source": []
  },
  {
   "cell_type": "code",
   "execution_count": null,
   "metadata": {},
   "outputs": [],
   "source": []
  },
  {
   "cell_type": "code",
   "execution_count": null,
   "metadata": {},
   "outputs": [],
   "source": []
  }
 ],
 "metadata": {
  "kernelspec": {
   "display_name": "ENV",
   "language": "python",
   "name": "env"
  },
  "language_info": {
   "codemirror_mode": {
    "name": "ipython",
    "version": 3
   },
   "file_extension": ".py",
   "mimetype": "text/x-python",
   "name": "python",
   "nbconvert_exporter": "python",
   "pygments_lexer": "ipython3",
   "version": "3.8.5"
  }
 },
 "nbformat": 4,
 "nbformat_minor": 4
}
